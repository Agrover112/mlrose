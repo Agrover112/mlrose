{
 "cells": [
  {
   "cell_type": "markdown",
   "metadata": {
    "collapsed": true,
    "pycharm": {
     "name": "#%% md\n"
    }
   },
   "source": [
    "# mlrose_hiive Generator and Runner Usage Examples - Andrew Rollings"
   ]
  },
  {
   "cell_type": "markdown",
   "source": [
    "## Overview"
   ],
   "metadata": {
    "collapsed": false
   }
  },
  {
   "cell_type": "markdown",
   "source": [
    "These examples will not solve assignment 2 for you, but they will give you\n",
    "some idea on how to use the problem generator and runner classes.\n",
    "\n",
    "Hopefully this will result in slightly fewer\n",
    "\"How do I &lt;insert basic usage here&gt;?\" questions every semester..."
   ],
   "metadata": {
    "collapsed": false
   }
  },
  {
   "cell_type": "markdown",
   "source": [
    "### Import Libraries"
   ],
   "metadata": {
    "collapsed": false
   }
  },
  {
   "cell_type": "code",
   "execution_count": 1,
   "outputs": [],
   "source": [
    "from IPython.core.display import display, HTML # for some notebook formatting.\n",
    "\n",
    "import mlrose_hiive\n",
    "import numpy as np\n",
    "import logging\n",
    "import networkx as nx\n",
    "from ast import literal_eval\n",
    "\n",
    "from sklearn.datasets import load_iris\n",
    "from sklearn.model_selection import train_test_split\n",
    "from sklearn.preprocessing import MinMaxScaler, OneHotEncoder\n",
    "from sklearn.metrics import accuracy_score\n",
    "from mlrose_hiive import QueensGenerator, MaxKColorGenerator\n",
    "from mlrose_hiive import SARunner, GARunner, NNGSRunner\n",
    "\n",
    "# switch off the chatter\n",
    "logging.basicConfig(level=logging.WARNING)"
   ],
   "metadata": {
    "collapsed": false,
    "pycharm": {
     "name": "#%%\n"
    }
   }
  },
  {
   "cell_type": "markdown",
   "source": [
    "### Example 1: Generating and Running 8-Queens using the SA algorithm"
   ],
   "metadata": {
    "collapsed": false
   }
  },
  {
   "cell_type": "code",
   "execution_count": 2,
   "outputs": [],
   "source": [
    "# Generate a new 8-Queen problem using a fixed seed.\n",
    "problem = QueensGenerator().generate(seed=123456, size=8)\n",
    "\n",
    "# create a runner class and solve the problem\n",
    "sa = SARunner(problem=problem,\n",
    "              experiment_name='queens8_sa',\n",
    "              output_directory=None, # note: specify an output directory to have results saved to disk\n",
    "              seed=123456,\n",
    "              iteration_list=2 ** np.arange(11),\n",
    "              max_attempts=500,\n",
    "              temperature_list=[0.1, 0.5, 0.75, 1.0, 2.0, 5.0],\n",
    "              decay_list=[mlrose_hiive.GeomDecay])\n",
    "\n",
    "# the two data frames will contain the results\n",
    "df_run_stats, df_run_curves = sa.run()"
   ],
   "metadata": {
    "collapsed": false,
    "pycharm": {
     "name": "#%%\n"
    }
   }
  },
  {
   "cell_type": "markdown",
   "source": [
    "The preceding code will run the `SA` algorithm six times for at most 1024 iterations.\n",
    "Each run is initialized with the temperature specified in the `temperature_list`\n",
    "using the temperature values specified.\n",
    "\n",
    "If the fitness remains static for `max_attempts` iterations, it will terminate that run.\n",
    "\n",
    "Note that the initial state parameters here are just toy values picked specifically\n",
    "for this example. You will have to choose your own range of values for your\n",
    "assignment. I strongly recommend you don't just copy these, or you will find\n",
    "that the grading is unlikely to go the way you would like.\n",
    "\n",
    "The output in the `df_run_stats` dataframe contains snapshots of the state of the algorithm at the iterations\n",
    "specified in the `iteration_list` passed into the runner class.\n",
    "\n",
    "The first 12 rows (corresponding to the first run of this algorithm) are as follows:"
   ],
   "metadata": {
    "collapsed": false,
    "pycharm": {
     "name": "#%% md\n"
    }
   }
  },
  {
   "cell_type": "code",
   "execution_count": 3,
   "outputs": [
    {
     "data": {
      "text/plain": "<IPython.core.display.HTML object>",
      "text/html": "<table border=\"1\" class=\"dataframe\">\n  <thead>\n    <tr style=\"text-align: right;\">\n      <th></th>\n      <th>Iteration</th>\n      <th>Fitness</th>\n      <th>FEvals</th>\n      <th>Time</th>\n      <th>State</th>\n    </tr>\n  </thead>\n  <tbody>\n    <tr>\n      <th>0</th>\n      <td>0</td>\n      <td>11.0</td>\n      <td>0</td>\n      <td>0.000930</td>\n      <td>[1, 2, 2, 1, 0, 3, 7, 3]</td>\n    </tr>\n    <tr>\n      <th>1</th>\n      <td>1</td>\n      <td>9.0</td>\n      <td>2</td>\n      <td>0.004308</td>\n      <td>[1, 2, 2, 0, 0, 3, 7, 3]</td>\n    </tr>\n    <tr>\n      <th>2</th>\n      <td>2</td>\n      <td>8.0</td>\n      <td>4</td>\n      <td>0.007184</td>\n      <td>[1, 2, 2, 0, 0, 3, 7, 5]</td>\n    </tr>\n    <tr>\n      <th>3</th>\n      <td>4</td>\n      <td>8.0</td>\n      <td>7</td>\n      <td>0.010658</td>\n      <td>[1, 2, 2, 5, 0, 3, 7, 5]</td>\n    </tr>\n    <tr>\n      <th>4</th>\n      <td>8</td>\n      <td>5.0</td>\n      <td>13</td>\n      <td>0.014982</td>\n      <td>[1, 2, 7, 5, 0, 3, 5, 5]</td>\n    </tr>\n    <tr>\n      <th>5</th>\n      <td>16</td>\n      <td>4.0</td>\n      <td>24</td>\n      <td>0.020841</td>\n      <td>[1, 2, 7, 5, 3, 0, 5, 5]</td>\n    </tr>\n    <tr>\n      <th>6</th>\n      <td>32</td>\n      <td>4.0</td>\n      <td>47</td>\n      <td>0.029915</td>\n      <td>[1, 5, 7, 5, 0, 0, 3, 4]</td>\n    </tr>\n    <tr>\n      <th>7</th>\n      <td>64</td>\n      <td>1.0</td>\n      <td>86</td>\n      <td>0.043630</td>\n      <td>[1, 5, 2, 6, 3, 0, 7, 4]</td>\n    </tr>\n    <tr>\n      <th>8</th>\n      <td>128</td>\n      <td>1.0</td>\n      <td>155</td>\n      <td>0.067857</td>\n      <td>[1, 5, 2, 6, 3, 0, 4, 7]</td>\n    </tr>\n    <tr>\n      <th>9</th>\n      <td>256</td>\n      <td>1.0</td>\n      <td>295</td>\n      <td>0.120394</td>\n      <td>[1, 7, 2, 6, 3, 5, 0, 4]</td>\n    </tr>\n    <tr>\n      <th>10</th>\n      <td>512</td>\n      <td>0.0</td>\n      <td>461</td>\n      <td>0.183249</td>\n      <td>[1, 5, 0, 6, 3, 7, 2, 4]</td>\n    </tr>\n    <tr>\n      <th>11</th>\n      <td>1024</td>\n      <td>0.0</td>\n      <td>461</td>\n      <td>0.183249</td>\n      <td>[1, 5, 0, 6, 3, 7, 2, 4]</td>\n    </tr>\n  </tbody>\n</table>"
     },
     "execution_count": 3,
     "metadata": {},
     "output_type": "execute_result"
    }
   ],
   "source": [
    "HTML(df_run_stats[['Iteration', 'Fitness', 'FEvals', 'Time', 'State']][0:12].to_html())"
   ],
   "metadata": {
    "collapsed": false,
    "pycharm": {
     "name": "#%%\n"
    }
   }
  },
  {
   "cell_type": "markdown",
   "source": [
    "The state information is excluded from the previous output.\n",
    "\n",
    "A sample of this (based on the state of the `GeomDecay` object) is below:"
   ],
   "metadata": {
    "collapsed": false
   }
  },
  {
   "cell_type": "code",
   "execution_count": 4,
   "outputs": [
    {
     "data": {
      "text/plain": "<IPython.core.display.HTML object>",
      "text/html": "<table border=\"1\" class=\"dataframe\">\n  <thead>\n    <tr style=\"text-align: right;\">\n      <th></th>\n      <th>schedule_current_value</th>\n      <th>schedule_init_temp</th>\n      <th>schedule_min_temp</th>\n    </tr>\n  </thead>\n  <tbody>\n    <tr>\n      <th>0</th>\n      <td>0.099999</td>\n      <td>0.1</td>\n      <td>0.001</td>\n    </tr>\n  </tbody>\n</table>"
     },
     "execution_count": 4,
     "metadata": {},
     "output_type": "execute_result"
    }
   ],
   "source": [
    "state_sample = df_run_stats[['schedule_current_value', 'schedule_init_temp', 'schedule_min_temp']][:1]\n",
    "HTML(state_sample.to_html())"
   ],
   "metadata": {
    "collapsed": false,
    "pycharm": {
     "name": "#%%\n"
    }
   }
  },
  {
   "cell_type": "markdown",
   "source": [
    "So, to pick out the most performant run from the dataframe, you need to find the row with the best fitness.\n",
    "As 8-Queens is a minimization problem, you'd pick the row with the minimum fitness.\n",
    "\n",
    "However, I'm going to look in the `run_curves` (which stores minimal basic information every iteration) to\n",
    "find out which input state achieved the best fitness in the fewest fitness evaluations."
   ],
   "metadata": {
    "collapsed": false,
    "pycharm": {
     "name": "#%% md\n"
    }
   }
  },
  {
   "cell_type": "code",
   "execution_count": 5,
   "outputs": [
    {
     "data": {
      "text/plain": "<IPython.core.display.HTML object>",
      "text/html": "<table border=\"1\" class=\"dataframe\">\n  <thead>\n    <tr style=\"text-align: right;\">\n      <th></th>\n      <th>Iteration</th>\n      <th>Time</th>\n      <th>Fitness</th>\n      <th>FEvals</th>\n      <th>Temperature</th>\n      <th>max_iters</th>\n    </tr>\n  </thead>\n  <tbody>\n    <tr>\n      <th>414</th>\n      <td>414</td>\n      <td>0.183249</td>\n      <td>0.0</td>\n      <td>461.0</td>\n      <td>0.1</td>\n      <td>1024</td>\n    </tr>\n    <tr>\n      <th>829</th>\n      <td>414</td>\n      <td>0.183249</td>\n      <td>0.0</td>\n      <td>461.0</td>\n      <td>0.5</td>\n      <td>1024</td>\n    </tr>\n    <tr>\n      <th>2416</th>\n      <td>561</td>\n      <td>0.073912</td>\n      <td>0.0</td>\n      <td>639.0</td>\n      <td>1.0</td>\n      <td>1024</td>\n    </tr>\n    <tr>\n      <th>2739</th>\n      <td>322</td>\n      <td>0.145685</td>\n      <td>0.0</td>\n      <td>427.0</td>\n      <td>2.0</td>\n      <td>1024</td>\n    </tr>\n    <tr>\n      <th>3164</th>\n      <td>424</td>\n      <td>0.015092</td>\n      <td>0.0</td>\n      <td>583.0</td>\n      <td>5.0</td>\n      <td>1024</td>\n    </tr>\n  </tbody>\n</table>"
     },
     "execution_count": 5,
     "metadata": {},
     "output_type": "execute_result"
    }
   ],
   "source": [
    "best_fitness = df_run_curves['Fitness'].min()\n",
    "best_runs = df_run_curves[df_run_curves['Fitness'] == best_fitness]\n",
    "\n",
    "HTML(best_runs.to_html())"
   ],
   "metadata": {
    "collapsed": false,
    "pycharm": {
     "name": "#%%\n"
    }
   }
  },
  {
   "cell_type": "markdown",
   "source": [
    "This gives us five candidates for the best run. We are going to pick the one with\n",
    "that reached the best fitness value in the fewest number of evaluations.\n",
    "\n",
    "(We could also have chosen to use `Iterations` as our criteria.)"
   ],
   "metadata": {
    "collapsed": false
   }
  },
  {
   "cell_type": "code",
   "execution_count": 6,
   "outputs": [],
   "source": [
    "minimum_evaluations = best_runs['FEvals'].min()\n",
    "\n",
    "best_curve_run = best_runs[best_runs['FEvals'] == minimum_evaluations]"
   ],
   "metadata": {
    "collapsed": false,
    "pycharm": {
     "name": "#%%\n"
    }
   }
  },
  {
   "cell_type": "markdown",
   "source": [
    "The best run using these criteria is as follows:"
   ],
   "metadata": {
    "collapsed": false,
    "pycharm": {
     "name": "#%% md\n"
    }
   }
  },
  {
   "cell_type": "code",
   "execution_count": 7,
   "outputs": [
    {
     "data": {
      "text/plain": "<IPython.core.display.HTML object>",
      "text/html": "<table border=\"1\" class=\"dataframe\">\n  <thead>\n    <tr style=\"text-align: right;\">\n      <th></th>\n      <th>Iteration</th>\n      <th>Time</th>\n      <th>Fitness</th>\n      <th>FEvals</th>\n      <th>Temperature</th>\n      <th>max_iters</th>\n    </tr>\n  </thead>\n  <tbody>\n    <tr>\n      <th>2739</th>\n      <td>322</td>\n      <td>0.145685</td>\n      <td>0.0</td>\n      <td>427.0</td>\n      <td>2.0</td>\n      <td>1024</td>\n    </tr>\n  </tbody>\n</table>"
     },
     "execution_count": 7,
     "metadata": {},
     "output_type": "execute_result"
    }
   ],
   "source": [
    "HTML(best_curve_run.to_html())"
   ],
   "metadata": {
    "collapsed": false,
    "pycharm": {
     "name": "#%%\n"
    }
   }
  },
  {
   "cell_type": "markdown",
   "source": [
    "Which has the following identifying state information:"
   ],
   "metadata": {
    "collapsed": false,
    "pycharm": {
     "name": "#%% md\n"
    }
   }
  },
  {
   "cell_type": "code",
   "execution_count": 8,
   "outputs": [
    {
     "name": "stdout",
     "output_type": "stream",
     "text": [
      "Best initial temperature: 2.0\n"
     ]
    }
   ],
   "source": [
    "best_init_temperature = best_curve_run['Temperature'].iloc()[0].init_temp\n",
    "\n",
    "print(f'Best initial temperature: {best_init_temperature}')\n"
   ],
   "metadata": {
    "collapsed": false,
    "pycharm": {
     "name": "#%%\n"
    }
   }
  },
  {
   "cell_type": "markdown",
   "source": [
    "To map this back to the `run_stats` we look at the configuration data included in\n",
    "the curve data. The curve data includes at least the minimum identifying information\n",
    "to determine which run each row came from.\n",
    "\n",
    "In this case, the value we are looking for is the `Temperature`, which is the initial temperature\n",
    "used to initialize the `GeomDecay` object.\n",
    "\n",
    "So, in this case, we are looking for all rows in `df_run_stats` where the temperature is equal to 1."
   ],
   "metadata": {
    "collapsed": false,
    "pycharm": {
     "name": "#%% md\n"
    }
   }
  },
  {
   "cell_type": "code",
   "execution_count": 9,
   "outputs": [
    {
     "data": {
      "text/plain": "<IPython.core.display.HTML object>",
      "text/html": "<table border=\"1\" class=\"dataframe\">\n  <thead>\n    <tr style=\"text-align: right;\">\n      <th></th>\n      <th>Iteration</th>\n      <th>Fitness</th>\n      <th>FEvals</th>\n      <th>Time</th>\n      <th>State</th>\n    </tr>\n  </thead>\n  <tbody>\n    <tr>\n      <th>48</th>\n      <td>0</td>\n      <td>11.0</td>\n      <td>0</td>\n      <td>0.000452</td>\n      <td>[1, 2, 2, 1, 0, 3, 7, 3]</td>\n    </tr>\n    <tr>\n      <th>49</th>\n      <td>1</td>\n      <td>9.0</td>\n      <td>2</td>\n      <td>0.005344</td>\n      <td>[1, 2, 2, 0, 0, 3, 7, 3]</td>\n    </tr>\n    <tr>\n      <th>50</th>\n      <td>2</td>\n      <td>8.0</td>\n      <td>4</td>\n      <td>0.010341</td>\n      <td>[1, 2, 2, 0, 0, 3, 7, 5]</td>\n    </tr>\n    <tr>\n      <th>51</th>\n      <td>4</td>\n      <td>8.0</td>\n      <td>7</td>\n      <td>0.015352</td>\n      <td>[1, 2, 2, 5, 0, 3, 7, 5]</td>\n    </tr>\n    <tr>\n      <th>52</th>\n      <td>8</td>\n      <td>7.0</td>\n      <td>14</td>\n      <td>0.021362</td>\n      <td>[1, 2, 2, 5, 0, 3, 5, 5]</td>\n    </tr>\n    <tr>\n      <th>53</th>\n      <td>16</td>\n      <td>6.0</td>\n      <td>27</td>\n      <td>0.031062</td>\n      <td>[3, 2, 3, 5, 0, 1, 5, 5]</td>\n    </tr>\n    <tr>\n      <th>54</th>\n      <td>32</td>\n      <td>4.0</td>\n      <td>57</td>\n      <td>0.043932</td>\n      <td>[3, 5, 6, 5, 5, 0, 4, 7]</td>\n    </tr>\n    <tr>\n      <th>55</th>\n      <td>64</td>\n      <td>5.0</td>\n      <td>114</td>\n      <td>0.062913</td>\n      <td>[2, 0, 3, 6, 1, 2, 1, 7]</td>\n    </tr>\n    <tr>\n      <th>56</th>\n      <td>128</td>\n      <td>3.0</td>\n      <td>205</td>\n      <td>0.094560</td>\n      <td>[2, 0, 6, 3, 5, 0, 4, 3]</td>\n    </tr>\n    <tr>\n      <th>57</th>\n      <td>256</td>\n      <td>2.0</td>\n      <td>358</td>\n      <td>0.146270</td>\n      <td>[7, 1, 3, 6, 6, 4, 0, 5]</td>\n    </tr>\n    <tr>\n      <th>58</th>\n      <td>512</td>\n      <td>0.0</td>\n      <td>427</td>\n      <td>0.175357</td>\n      <td>[7, 1, 3, 0, 6, 4, 2, 5]</td>\n    </tr>\n    <tr>\n      <th>59</th>\n      <td>1024</td>\n      <td>0.0</td>\n      <td>427</td>\n      <td>0.175357</td>\n      <td>[7, 1, 3, 0, 6, 4, 2, 5]</td>\n    </tr>\n  </tbody>\n</table>"
     },
     "execution_count": 9,
     "metadata": {},
     "output_type": "execute_result"
    }
   ],
   "source": [
    "run_stats_best_run = df_run_stats[df_run_stats['schedule_init_temp'] == best_init_temperature]\n",
    "HTML(run_stats_best_run[['Iteration', 'Fitness', 'FEvals', 'Time', 'State']].to_html())"
   ],
   "metadata": {
    "collapsed": false,
    "pycharm": {
     "name": "#%%\n"
    }
   }
  },
  {
   "cell_type": "markdown",
   "source": [
    "And the best state associated with this is:"
   ],
   "metadata": {
    "collapsed": false,
    "pycharm": {
     "name": "#%% md\n"
    }
   }
  },
  {
   "cell_type": "code",
   "execution_count": 10,
   "outputs": [
    {
     "data": {
      "text/plain": "<IPython.core.display.HTML object>",
      "text/html": "<table border=\"1\" class=\"dataframe\">\n  <thead>\n    <tr style=\"text-align: right;\">\n      <th></th>\n      <th>schedule_current_value</th>\n      <th>schedule_init_temp</th>\n      <th>schedule_min_temp</th>\n    </tr>\n  </thead>\n  <tbody>\n    <tr>\n      <th>48</th>\n      <td>1.999991</td>\n      <td>2.0</td>\n      <td>0.001</td>\n    </tr>\n  </tbody>\n</table>"
     },
     "execution_count": 10,
     "metadata": {},
     "output_type": "execute_result"
    }
   ],
   "source": [
    "best_state = run_stats_best_run[['schedule_current_value', 'schedule_init_temp', 'schedule_min_temp']][:1]\n",
    "HTML(best_state.to_html())\n"
   ],
   "metadata": {
    "collapsed": false,
    "pycharm": {
     "name": "#%%\n"
    }
   }
  },
  {
   "cell_type": "markdown",
   "source": [
    "### Example 2: Generating and Running Max K Color using the GA algorithm"
   ],
   "metadata": {
    "collapsed": false
   }
  },
  {
   "cell_type": "code",
   "execution_count": 11,
   "outputs": [],
   "source": [
    "# Generate a new Max K problem using a fixed seed.\n",
    "problem = MaxKColorGenerator().generate(seed=123456, number_of_nodes=10, max_connections_per_node=3, max_colors=3)"
   ],
   "metadata": {
    "collapsed": false,
    "pycharm": {
     "name": "#%%\n"
    }
   }
  },
  {
   "cell_type": "markdown",
   "source": [
    "The input graph generated for the problem looks like this:"
   ],
   "metadata": {
    "collapsed": false
   }
  },
  {
   "cell_type": "code",
   "execution_count": 12,
   "outputs": [],
   "source": [
    "nx.draw(problem.source_graph,\n",
    "        pos=nx.spring_layout(problem.source_graph, seed = 3))"
   ],
   "metadata": {
    "collapsed": false,
    "pycharm": {
     "name": "#%%\n"
    }
   }
  },
  {
   "cell_type": "code",
   "execution_count": 13,
   "outputs": [],
   "source": [
    "# create a runner class and solve the problem\n",
    "ga = GARunner(problem=problem,\n",
    "              experiment_name='max_k_ga',\n",
    "              output_directory=None, # note: specify an output directory to have results saved to disk\n",
    "              seed=123456,\n",
    "              iteration_list=2 ** np.arange(11),\n",
    "              population_sizes=[10, 20, 50],\n",
    "              mutation_rates=[0.1, 0.2, 0.5])\n",
    "\n",
    "# the two data frames will contain the results\n",
    "df_run_stats, df_run_curves = ga.run()"
   ],
   "metadata": {
    "collapsed": false,
    "pycharm": {
     "name": "#%%\n"
    }
   }
  },
  {
   "cell_type": "markdown",
   "source": [
    "The preceding code will run the `GA` algorithm nine times for at most 1024 iterations per run.\n",
    "Each run is a permutation from the list of `population_sizes` and `mutation_rates`.\n",
    "\n",
    "Note that the initial state parameters here are just toy values picked specifically\n",
    "for this example. You will have to choose your own range of values for your\n",
    "assignment. I strongly recommend you don't just copy these, or you will find\n",
    "that the grading is unlikely to go the way you would like.\n",
    "\n",
    "Really. I mean it... A mutation rate of 0.5 is little better than a pure random search.\n",
    "\n",
    "The output in the `df_run_stats` dataframe contains snapshots of the state of the algorithm at the iterations\n",
    "specified in the `iteration_list` passed into the runner class.\n",
    "\n",
    "The first row (corresponding to the first run of this algorithm) are as follows:"
   ],
   "metadata": {
    "collapsed": false
   }
  },
  {
   "cell_type": "code",
   "execution_count": 14,
   "outputs": [
    {
     "data": {
      "text/plain": "<IPython.core.display.HTML object>",
      "text/html": "<table border=\"1\" class=\"dataframe\">\n  <thead>\n    <tr style=\"text-align: right;\">\n      <th></th>\n      <th>Iteration</th>\n      <th>Fitness</th>\n      <th>FEvals</th>\n      <th>Time</th>\n      <th>State</th>\n    </tr>\n  </thead>\n  <tbody>\n    <tr>\n      <th>0</th>\n      <td>0</td>\n      <td>3.0</td>\n      <td>10</td>\n      <td>0.000621</td>\n      <td>[1, 2, 2, 1, 0, 0, 0, 0, 2, 2]</td>\n    </tr>\n  </tbody>\n</table>"
     },
     "execution_count": 14,
     "metadata": {},
     "output_type": "execute_result"
    }
   ],
   "source": [
    "HTML(df_run_stats[['Iteration', 'Fitness', 'FEvals', 'Time', 'State']][0:1].to_html())"
   ],
   "metadata": {
    "collapsed": false,
    "pycharm": {
     "name": "#%%\n"
    }
   }
  },
  {
   "cell_type": "markdown",
   "source": [
    "The state information is excluded from the previous output.\n",
    "\n",
    "A sample of this is below:"
   ],
   "metadata": {
    "collapsed": false
   }
  },
  {
   "cell_type": "code",
   "execution_count": 15,
   "outputs": [
    {
     "data": {
      "text/plain": "<IPython.core.display.HTML object>",
      "text/html": "<table border=\"1\" class=\"dataframe\">\n  <thead>\n    <tr style=\"text-align: right;\">\n      <th></th>\n      <th>Population Size</th>\n      <th>Mutation Rate</th>\n    </tr>\n  </thead>\n  <tbody>\n    <tr>\n      <th>0</th>\n      <td>10</td>\n      <td>0.1</td>\n    </tr>\n  </tbody>\n</table>"
     },
     "execution_count": 15,
     "metadata": {},
     "output_type": "execute_result"
    }
   ],
   "source": [
    "state_sample = df_run_stats[['Population Size', 'Mutation Rate']][:1]\n",
    "HTML(state_sample.to_html())\n"
   ],
   "metadata": {
    "collapsed": false,
    "pycharm": {
     "name": "#%%\n"
    }
   }
  },
  {
   "cell_type": "markdown",
   "source": [
    "So, to pick out the most performant run from the dataframe, you need to find the row with the best fitness.\n",
    "As Max-K-Color is a minimization problem, you'd pick the row with the minimum fitness.\n",
    "\n",
    "However, I'm going to look in the `run_curves` (which stores minimal basic information every iteration) to\n",
    "find out which input state achieved the best fitness in the fewest fitness evaluations."
   ],
   "metadata": {
    "collapsed": false
   }
  },
  {
   "cell_type": "code",
   "execution_count": 16,
   "outputs": [
    {
     "data": {
      "text/plain": "<IPython.core.display.HTML object>",
      "text/html": "<table border=\"1\" class=\"dataframe\">\n  <thead>\n    <tr style=\"text-align: right;\">\n      <th></th>\n      <th>Iteration</th>\n      <th>Time</th>\n      <th>Fitness</th>\n      <th>FEvals</th>\n      <th>Population Size</th>\n      <th>Mutation Rate</th>\n      <th>max_iters</th>\n    </tr>\n  </thead>\n  <tbody>\n    <tr>\n      <th>4</th>\n      <td>4</td>\n      <td>0.013440</td>\n      <td>0.0</td>\n      <td>57.0</td>\n      <td>10</td>\n      <td>0.1</td>\n      <td>1024</td>\n    </tr>\n    <tr>\n      <th>9</th>\n      <td>4</td>\n      <td>0.013440</td>\n      <td>0.0</td>\n      <td>57.0</td>\n      <td>10</td>\n      <td>0.2</td>\n      <td>1024</td>\n    </tr>\n    <tr>\n      <th>18</th>\n      <td>8</td>\n      <td>0.007765</td>\n      <td>0.0</td>\n      <td>101.0</td>\n      <td>10</td>\n      <td>0.5</td>\n      <td>1024</td>\n    </tr>\n    <tr>\n      <th>24</th>\n      <td>5</td>\n      <td>0.000415</td>\n      <td>0.0</td>\n      <td>127.0</td>\n      <td>20</td>\n      <td>0.1</td>\n      <td>1024</td>\n    </tr>\n    <tr>\n      <th>27</th>\n      <td>2</td>\n      <td>0.009130</td>\n      <td>0.0</td>\n      <td>64.0</td>\n      <td>20</td>\n      <td>0.2</td>\n      <td>1024</td>\n    </tr>\n    <tr>\n      <th>31</th>\n      <td>3</td>\n      <td>0.012220</td>\n      <td>0.0</td>\n      <td>85.0</td>\n      <td>20</td>\n      <td>0.5</td>\n      <td>1024</td>\n    </tr>\n    <tr>\n      <th>41</th>\n      <td>9</td>\n      <td>0.008465</td>\n      <td>0.0</td>\n      <td>511.0</td>\n      <td>50</td>\n      <td>0.1</td>\n      <td>1024</td>\n    </tr>\n    <tr>\n      <th>45</th>\n      <td>3</td>\n      <td>0.012220</td>\n      <td>0.0</td>\n      <td>205.0</td>\n      <td>50</td>\n      <td>0.2</td>\n      <td>1024</td>\n    </tr>\n    <tr>\n      <th>50</th>\n      <td>4</td>\n      <td>0.013440</td>\n      <td>0.0</td>\n      <td>256.0</td>\n      <td>50</td>\n      <td>0.5</td>\n      <td>1024</td>\n    </tr>\n  </tbody>\n</table>"
     },
     "execution_count": 16,
     "metadata": {},
     "output_type": "execute_result"
    }
   ],
   "source": [
    "best_fitness = df_run_curves['Fitness'].min()\n",
    "best_runs = df_run_curves[df_run_curves['Fitness'] == best_fitness]\n",
    "\n",
    "HTML(best_runs.to_html())"
   ],
   "metadata": {
    "collapsed": false,
    "pycharm": {
     "name": "#%%\n"
    }
   }
  },
  {
   "cell_type": "markdown",
   "source": [
    "This gives us nine candidates for the best run. We are going to pick the one with\n",
    "that reached the best fitness value in the fewest number of evaluations.\n",
    "\n",
    "(We could also have chosen to use `Iterations` as our criteria.)"
   ],
   "metadata": {
    "collapsed": false
   }
  },
  {
   "cell_type": "code",
   "execution_count": 17,
   "outputs": [],
   "source": [
    "minimum_evaluations = best_runs['FEvals'].min()\n",
    "\n",
    "best_curve_run = best_runs[best_runs['FEvals'] == minimum_evaluations]"
   ],
   "metadata": {
    "collapsed": false,
    "pycharm": {
     "name": "#%%\n"
    }
   }
  },
  {
   "cell_type": "markdown",
   "source": [
    "The best runs using these criteria is as follows:"
   ],
   "metadata": {
    "collapsed": false
   }
  },
  {
   "cell_type": "code",
   "execution_count": 18,
   "outputs": [
    {
     "data": {
      "text/plain": "<IPython.core.display.HTML object>",
      "text/html": "<table border=\"1\" class=\"dataframe\">\n  <thead>\n    <tr style=\"text-align: right;\">\n      <th></th>\n      <th>Iteration</th>\n      <th>Time</th>\n      <th>Fitness</th>\n      <th>FEvals</th>\n      <th>Population Size</th>\n      <th>Mutation Rate</th>\n      <th>max_iters</th>\n    </tr>\n  </thead>\n  <tbody>\n    <tr>\n      <th>4</th>\n      <td>4</td>\n      <td>0.01344</td>\n      <td>0.0</td>\n      <td>57.0</td>\n      <td>10</td>\n      <td>0.1</td>\n      <td>1024</td>\n    </tr>\n    <tr>\n      <th>9</th>\n      <td>4</td>\n      <td>0.01344</td>\n      <td>0.0</td>\n      <td>57.0</td>\n      <td>10</td>\n      <td>0.2</td>\n      <td>1024</td>\n    </tr>\n  </tbody>\n</table>"
     },
     "execution_count": 18,
     "metadata": {},
     "output_type": "execute_result"
    }
   ],
   "source": [
    "HTML(best_curve_run.to_html())"
   ],
   "metadata": {
    "collapsed": false,
    "pycharm": {
     "name": "#%%\n"
    }
   }
  },
  {
   "cell_type": "markdown",
   "source": [
    "We will arbitrarily pick the first row for this example,\n",
    "which has the following identifying state information:"
   ],
   "metadata": {
    "collapsed": false
   }
  },
  {
   "cell_type": "code",
   "execution_count": 19,
   "outputs": [
    {
     "name": "stdout",
     "output_type": "stream",
     "text": [
      "Best Mutation Rate: 0.1, best Population Size: 10\n"
     ]
    }
   ],
   "source": [
    "best_mr = best_curve_run['Mutation Rate'].iloc()[0]\n",
    "best_pop_size = best_curve_run['Population Size'].iloc()[0]\n",
    "print(f'Best Mutation Rate: {best_mr}, best Population Size: {best_pop_size}')\n"
   ],
   "metadata": {
    "collapsed": false,
    "pycharm": {
     "name": "#%%\n"
    }
   }
  },
  {
   "cell_type": "markdown",
   "source": [
    "To map this back to the `run_stats` we look at the configuration data included in\n",
    "the curve data. The curve data includes at least the minimum identifying information\n",
    "to determine which run each row came from.\n",
    "\n",
    "In this case, the values we are looking for are the `Mutation Rate` and `Population Size`.\n",
    "\n",
    "So, we are looking for all rows in `df_run_stats` where the mutation rate and population size are equal to our best values."
   ],
   "metadata": {
    "collapsed": false
   }
  },
  {
   "cell_type": "code",
   "execution_count": 20,
   "outputs": [
    {
     "data": {
      "text/plain": "<IPython.core.display.HTML object>",
      "text/html": "<table border=\"1\" class=\"dataframe\">\n  <thead>\n    <tr style=\"text-align: right;\">\n      <th></th>\n      <th>Iteration</th>\n      <th>Fitness</th>\n      <th>FEvals</th>\n      <th>Time</th>\n    </tr>\n  </thead>\n  <tbody>\n    <tr>\n      <th>0</th>\n      <td>0</td>\n      <td>3.0</td>\n      <td>10</td>\n      <td>0.000621</td>\n    </tr>\n    <tr>\n      <th>1</th>\n      <td>1</td>\n      <td>3.0</td>\n      <td>21</td>\n      <td>0.005916</td>\n    </tr>\n    <tr>\n      <th>2</th>\n      <td>2</td>\n      <td>2.0</td>\n      <td>33</td>\n      <td>0.009130</td>\n    </tr>\n    <tr>\n      <th>3</th>\n      <td>4</td>\n      <td>0.0</td>\n      <td>57</td>\n      <td>0.013440</td>\n    </tr>\n    <tr>\n      <th>4</th>\n      <td>8</td>\n      <td>0.0</td>\n      <td>57</td>\n      <td>0.013440</td>\n    </tr>\n    <tr>\n      <th>5</th>\n      <td>16</td>\n      <td>0.0</td>\n      <td>57</td>\n      <td>0.013440</td>\n    </tr>\n    <tr>\n      <th>6</th>\n      <td>32</td>\n      <td>0.0</td>\n      <td>57</td>\n      <td>0.013440</td>\n    </tr>\n    <tr>\n      <th>7</th>\n      <td>64</td>\n      <td>0.0</td>\n      <td>57</td>\n      <td>0.013440</td>\n    </tr>\n    <tr>\n      <th>8</th>\n      <td>128</td>\n      <td>0.0</td>\n      <td>57</td>\n      <td>0.013440</td>\n    </tr>\n    <tr>\n      <th>9</th>\n      <td>256</td>\n      <td>0.0</td>\n      <td>57</td>\n      <td>0.013440</td>\n    </tr>\n    <tr>\n      <th>10</th>\n      <td>512</td>\n      <td>0.0</td>\n      <td>57</td>\n      <td>0.013440</td>\n    </tr>\n    <tr>\n      <th>11</th>\n      <td>1024</td>\n      <td>0.0</td>\n      <td>57</td>\n      <td>0.013440</td>\n    </tr>\n  </tbody>\n</table>"
     },
     "execution_count": 20,
     "metadata": {},
     "output_type": "execute_result"
    }
   ],
   "source": [
    "run_stats_best_run = df_run_stats[(df_run_stats['Mutation Rate'] == best_mr) & (df_run_stats['Population Size'] == best_pop_size)]\n",
    "HTML(run_stats_best_run[['Iteration', 'Fitness', 'FEvals', 'Time']].to_html())"
   ],
   "metadata": {
    "collapsed": false,
    "pycharm": {
     "name": "#%%\n"
    }
   }
  },
  {
   "cell_type": "markdown",
   "source": [
    "And the best state associated with this is:"
   ],
   "metadata": {
    "collapsed": false
   }
  },
  {
   "cell_type": "code",
   "execution_count": 21,
   "outputs": [
    {
     "data": {
      "text/plain": "<IPython.core.display.HTML object>",
      "text/html": "<table border=\"1\" class=\"dataframe\">\n  <thead>\n    <tr style=\"text-align: right;\">\n      <th></th>\n      <th>State</th>\n    </tr>\n  </thead>\n  <tbody>\n    <tr>\n      <th>0</th>\n      <td>[1, 2, 2, 1, 0, 0, 0, 0, 2, 2]</td>\n    </tr>\n  </tbody>\n</table>"
     },
     "execution_count": 21,
     "metadata": {},
     "output_type": "execute_result"
    }
   ],
   "source": [
    "best_state = run_stats_best_run[['State']][:1]\n",
    "HTML(best_state.to_html())"
   ],
   "metadata": {
    "collapsed": false,
    "pycharm": {
     "name": "#%%\n"
    }
   }
  },
  {
   "cell_type": "markdown",
   "source": [
    "For the following node ordering:"
   ],
   "metadata": {
    "collapsed": false
   }
  },
  {
   "cell_type": "code",
   "execution_count": 22,
   "outputs": [
    {
     "name": "stdout",
     "output_type": "stream",
     "text": [
      "[0, 2, 8, 1, 3, 4, 6, 7, 9, 5]\n"
     ]
    }
   ],
   "source": [
    "print([n for n in problem.source_graph.nodes])"
   ],
   "metadata": {
    "collapsed": false,
    "pycharm": {
     "name": "#%%\n"
    }
   }
  },
  {
   "cell_type": "markdown",
   "source": [
    "Reordering the state by ascending node number gives the following:"
   ],
   "metadata": {
    "collapsed": false,
    "pycharm": {
     "name": "#%% md\n"
    }
   }
  },
  {
   "cell_type": "code",
   "execution_count": 23,
   "outputs": [
    {
     "name": "stdout",
     "output_type": "stream",
     "text": [
      "[0, 2, 2, 1, 0, 0, 0, 1, 1, 2]\n"
     ]
    }
   ],
   "source": [
    "color_indexes = literal_eval(run_stats_best_run['State'].tail(1).values[0])\n",
    "ordered_state = [color_indexes[n] for n in problem.source_graph.nodes]\n",
    "print(ordered_state)"
   ],
   "metadata": {
    "collapsed": false,
    "pycharm": {
     "name": "#%%\n"
    }
   }
  },
  {
   "cell_type": "markdown",
   "source": [
    "Which results in a graph looking like this:"
   ],
   "metadata": {
    "collapsed": false,
    "pycharm": {
     "name": "#%% md\n"
    }
   }
  },
  {
   "cell_type": "code",
   "execution_count": 24,
   "outputs": [
    {
     "data": {
      "text/plain": "<Figure size 432x288 with 1 Axes>",
      "image/png": "[encoded data removed]"
     },
     "metadata": {},
     "output_type": "display_data"
    }
   ],
   "source": [
    "colors = ['lightcoral', 'lightgreen', 'yellow']\n",
    "node_color_map = [colors[s] for s in ordered_state]\n",
    "\n",
    "nx.draw(problem.source_graph,\n",
    "        pos=nx.spring_layout(problem.source_graph, seed = 3),\n",
    "        with_labels=True,\n",
    "        node_color=node_color_map)"
   ],
   "metadata": {
    "collapsed": false,
    "pycharm": {
     "name": "#%%\n"
    }
   }
  },
  {
   "cell_type": "markdown",
   "source": [
    "### Example 3: Using the NNGSRunner with the RHC algorithm"
   ],
   "metadata": {
    "collapsed": false
   }
  },
  {
   "cell_type": "code",
   "execution_count": 25,
   "outputs": [
    {
     "name": "stdout",
     "output_type": "stream",
     "text": [
      "Fitting 5 folds for each of 1 candidates, totalling 5 fits\n"
     ]
    },
    {
     "name": "stderr",
     "output_type": "stream",
     "text": [
      "[Parallel(n_jobs=5)]: Using backend LokyBackend with 5 concurrent workers.\n",
      "[Parallel(n_jobs=5)]: Done   2 out of   5 | elapsed:   11.6s remaining:   17.4s\n",
      "[Parallel(n_jobs=5)]: Done   5 out of   5 | elapsed:   11.8s finished\n"
     ]
    }
   ],
   "source": [
    "# Load and Split data into training and test sets\n",
    "data = load_iris()\n",
    "X_train, X_test, y_train, y_test = train_test_split(\n",
    "    data.data, data.target, test_size = 0.3, random_state = 123456\n",
    ")\n",
    "\n",
    "# Normalize feature data\n",
    "scaler = MinMaxScaler()\n",
    "X_train_scaled = scaler.fit_transform(X_train)\n",
    "X_test_scaled = scaler.transform(X_test)\n",
    "\n",
    "# One hot encode target values\n",
    "one_hot = OneHotEncoder()\n",
    "y_train_hot = one_hot.fit_transform(y_train.reshape(-1, 1)).todense()\n",
    "y_test_hot = one_hot.transform(y_test.reshape(-1, 1)).todense()\n",
    "\n",
    "grid_search_parameters = {\n",
    "    'max_iters': [1000],                          # nn params\n",
    "    'learning_rate': [1e-2],                       # nn params\n",
    "    'activation': [mlrose_hiive.relu],            # nn params\n",
    "    'restarts': [1],                             # rhc params\n",
    "}\n",
    "\n",
    "nnr = NNGSRunner(\n",
    "    x_train=X_train_scaled,\n",
    "    y_train=y_train_hot,\n",
    "    x_test=X_test_scaled,\n",
    "    y_test=y_test_hot,\n",
    "    experiment_name='nn_test_rhc',\n",
    "    algorithm=mlrose_hiive.algorithms.rhc.random_hill_climb,\n",
    "    grid_search_parameters=grid_search_parameters,\n",
    "    iteration_list=[1, 10, 50, 100, 250, 500, 1000],\n",
    "    hidden_layer_sizes=[[2]],\n",
    "    bias=True,\n",
    "    early_stopping=True,\n",
    "    clip_max=5,\n",
    "    max_attempts=500,\n",
    "    n_jobs=5,\n",
    "    seed=123456,\n",
    "    output_directory=None\n",
    ")\n",
    "\n",
    "\n",
    "run_stats_df, curves_df, cv_results_df, grid_search_cv = nnr.run()"
   ],
   "metadata": {
    "collapsed": false,
    "pycharm": {
     "name": "#%%\n"
    }
   }
  },
  {
   "cell_type": "markdown",
   "source": [
    "The runner returns the `run_stats` and `curves` corresponding to *best* hyperparameter combination,\n",
    "as well as the cross validation results and the underlying `GridSearchCV` object used in the run."
   ],
   "metadata": {
    "collapsed": false,
    "pycharm": {
     "name": "#%% md\n"
    }
   }
  },
  {
   "cell_type": "code",
   "execution_count": 26,
   "outputs": [
    {
     "name": "stdout",
     "output_type": "stream",
     "text": [
      "0.3333333333333333\n"
     ]
    }
   ],
   "source": [
    "y_test_pred = grid_search_cv.predict(X_test_scaled)\n",
    "y_test_accuracy = accuracy_score(y_test_hot, y_test_pred)\n",
    "print(y_test_accuracy)\n"
   ],
   "metadata": {
    "collapsed": false,
    "pycharm": {
     "name": "#%%\n"
    }
   }
  },
  {
   "cell_type": "code",
   "execution_count": 27,
   "outputs": [
    {
     "name": "stdout",
     "output_type": "stream",
     "text": [
      "0.3333333333333333\n"
     ]
    }
   ],
   "source": [
    "y_train_pred = grid_search_cv.predict(X_train_scaled)\n",
    "y_train_accuracy = accuracy_score(y_train_hot, y_train_pred)\n",
    "print(y_train_accuracy)"
   ],
   "metadata": {
    "collapsed": false,
    "pycharm": {
     "name": "#%%\n"
    }
   }
  },
  {
   "cell_type": "code",
   "execution_count": 28,
   "outputs": [
    {
     "data": {
      "text/plain": "<IPython.core.display.HTML object>",
      "text/html": "<table border=\"1\" class=\"dataframe\">\n  <thead>\n    <tr style=\"text-align: right;\">\n      <th></th>\n      <th>current_restart</th>\n      <th>Iteration</th>\n      <th>Fitness</th>\n      <th>FEvals</th>\n      <th>Time</th>\n      <th>learning_rate</th>\n    </tr>\n  </thead>\n  <tbody>\n    <tr>\n      <th>0</th>\n      <td>0</td>\n      <td>0</td>\n      <td>1.306448</td>\n      <td>1</td>\n      <td>0.003093</td>\n      <td>0.01</td>\n    </tr>\n    <tr>\n      <th>1</th>\n      <td>0</td>\n      <td>1</td>\n      <td>1.290536</td>\n      <td>3</td>\n      <td>0.012355</td>\n      <td>0.01</td>\n    </tr>\n    <tr>\n      <th>2</th>\n      <td>0</td>\n      <td>10</td>\n      <td>1.246087</td>\n      <td>14</td>\n      <td>0.029482</td>\n      <td>0.01</td>\n    </tr>\n    <tr>\n      <th>3</th>\n      <td>0</td>\n      <td>50</td>\n      <td>1.115004</td>\n      <td>67</td>\n      <td>0.089348</td>\n      <td>0.01</td>\n    </tr>\n    <tr>\n      <th>4</th>\n      <td>0</td>\n      <td>100</td>\n      <td>1.044654</td>\n      <td>127</td>\n      <td>0.151790</td>\n      <td>0.01</td>\n    </tr>\n    <tr>\n      <th>5</th>\n      <td>0</td>\n      <td>250</td>\n      <td>0.877647</td>\n      <td>308</td>\n      <td>0.341082</td>\n      <td>0.01</td>\n    </tr>\n    <tr>\n      <th>6</th>\n      <td>0</td>\n      <td>500</td>\n      <td>0.739120</td>\n      <td>614</td>\n      <td>0.665188</td>\n      <td>0.01</td>\n    </tr>\n    <tr>\n      <th>7</th>\n      <td>0</td>\n      <td>1000</td>\n      <td>0.732424</td>\n      <td>1175</td>\n      <td>1.273386</td>\n      <td>0.01</td>\n    </tr>\n    <tr>\n      <th>8</th>\n      <td>0</td>\n      <td>2000</td>\n      <td>0.732408</td>\n      <td>2241</td>\n      <td>2.715334</td>\n      <td>0.01</td>\n    </tr>\n    <tr>\n      <th>9</th>\n      <td>0</td>\n      <td>5000</td>\n      <td>0.732408</td>\n      <td>2511</td>\n      <td>3.143708</td>\n      <td>0.01</td>\n    </tr>\n    <tr>\n      <th>10</th>\n      <td>1</td>\n      <td>0</td>\n      <td>1.306448</td>\n      <td>2511</td>\n      <td>3.153976</td>\n      <td>0.01</td>\n    </tr>\n    <tr>\n      <th>11</th>\n      <td>1</td>\n      <td>1</td>\n      <td>1.306448</td>\n      <td>2512</td>\n      <td>3.164231</td>\n      <td>0.01</td>\n    </tr>\n    <tr>\n      <th>12</th>\n      <td>1</td>\n      <td>10</td>\n      <td>1.282345</td>\n      <td>2523</td>\n      <td>3.190054</td>\n      <td>0.01</td>\n    </tr>\n    <tr>\n      <th>13</th>\n      <td>1</td>\n      <td>50</td>\n      <td>1.139376</td>\n      <td>2574</td>\n      <td>3.269469</td>\n      <td>0.01</td>\n    </tr>\n  </tbody>\n</table>"
     },
     "execution_count": 28,
     "metadata": {},
     "output_type": "execute_result"
    }
   ],
   "source": [
    "HTML(run_stats_df[['current_restart', 'Iteration', 'Fitness', 'FEvals', 'Time', 'learning_rate']][0:14].to_html())"
   ],
   "metadata": {
    "collapsed": false,
    "pycharm": {
     "name": "#%%\n"
    }
   }
  },
  {
   "cell_type": "code",
   "execution_count": 29,
   "outputs": [
    {
     "data": {
      "text/plain": "<IPython.core.display.HTML object>",
      "text/html": "<table border=\"1\" class=\"dataframe\">\n  <thead>\n    <tr style=\"text-align: right;\">\n      <th></th>\n      <th>current_restart</th>\n      <th>Iteration</th>\n      <th>Fitness</th>\n      <th>FEvals</th>\n      <th>Time</th>\n      <th>learning_rate</th>\n    </tr>\n  </thead>\n  <tbody>\n    <tr>\n      <th>0</th>\n      <td>0</td>\n      <td>0</td>\n      <td>1.290536</td>\n      <td>1.0</td>\n      <td>0.003093</td>\n      <td>0.01</td>\n    </tr>\n    <tr>\n      <th>1</th>\n      <td>0</td>\n      <td>1</td>\n      <td>1.290536</td>\n      <td>3.0</td>\n      <td>0.012355</td>\n      <td>0.01</td>\n    </tr>\n    <tr>\n      <th>2</th>\n      <td>0</td>\n      <td>2</td>\n      <td>1.290536</td>\n      <td>4.0</td>\n      <td>0.018263</td>\n      <td>0.01</td>\n    </tr>\n    <tr>\n      <th>3</th>\n      <td>0</td>\n      <td>3</td>\n      <td>1.290536</td>\n      <td>5.0</td>\n      <td>0.019368</td>\n      <td>0.01</td>\n    </tr>\n    <tr>\n      <th>4</th>\n      <td>0</td>\n      <td>4</td>\n      <td>1.263664</td>\n      <td>7.0</td>\n      <td>0.021524</td>\n      <td>0.01</td>\n    </tr>\n    <tr>\n      <th>5</th>\n      <td>0</td>\n      <td>5</td>\n      <td>1.263664</td>\n      <td>8.0</td>\n      <td>0.022974</td>\n      <td>0.01</td>\n    </tr>\n    <tr>\n      <th>6</th>\n      <td>0</td>\n      <td>6</td>\n      <td>1.246087</td>\n      <td>10.0</td>\n      <td>0.025036</td>\n      <td>0.01</td>\n    </tr>\n    <tr>\n      <th>7</th>\n      <td>0</td>\n      <td>7</td>\n      <td>1.246087</td>\n      <td>11.0</td>\n      <td>0.026106</td>\n      <td>0.01</td>\n    </tr>\n    <tr>\n      <th>8</th>\n      <td>0</td>\n      <td>8</td>\n      <td>1.246087</td>\n      <td>12.0</td>\n      <td>0.027192</td>\n      <td>0.01</td>\n    </tr>\n    <tr>\n      <th>9</th>\n      <td>0</td>\n      <td>9</td>\n      <td>1.246087</td>\n      <td>13.0</td>\n      <td>0.028235</td>\n      <td>0.01</td>\n    </tr>\n    <tr>\n      <th>10</th>\n      <td>0</td>\n      <td>10</td>\n      <td>1.246087</td>\n      <td>14.0</td>\n      <td>0.029482</td>\n      <td>0.01</td>\n    </tr>\n    <tr>\n      <th>11</th>\n      <td>0</td>\n      <td>11</td>\n      <td>1.246087</td>\n      <td>15.0</td>\n      <td>0.035944</td>\n      <td>0.01</td>\n    </tr>\n    <tr>\n      <th>12</th>\n      <td>0</td>\n      <td>12</td>\n      <td>1.246087</td>\n      <td>16.0</td>\n      <td>0.037060</td>\n      <td>0.01</td>\n    </tr>\n    <tr>\n      <th>13</th>\n      <td>0</td>\n      <td>13</td>\n      <td>1.246087</td>\n      <td>17.0</td>\n      <td>0.038158</td>\n      <td>0.01</td>\n    </tr>\n    <tr>\n      <th>14</th>\n      <td>0</td>\n      <td>14</td>\n      <td>1.246087</td>\n      <td>18.0</td>\n      <td>0.039305</td>\n      <td>0.01</td>\n    </tr>\n    <tr>\n      <th>15</th>\n      <td>0</td>\n      <td>15</td>\n      <td>1.246087</td>\n      <td>19.0</td>\n      <td>0.040525</td>\n      <td>0.01</td>\n    </tr>\n    <tr>\n      <th>16</th>\n      <td>0</td>\n      <td>16</td>\n      <td>1.246087</td>\n      <td>20.0</td>\n      <td>0.041608</td>\n      <td>0.01</td>\n    </tr>\n    <tr>\n      <th>17</th>\n      <td>0</td>\n      <td>17</td>\n      <td>1.232142</td>\n      <td>22.0</td>\n      <td>0.043642</td>\n      <td>0.01</td>\n    </tr>\n    <tr>\n      <th>18</th>\n      <td>0</td>\n      <td>18</td>\n      <td>1.216927</td>\n      <td>24.0</td>\n      <td>0.045803</td>\n      <td>0.01</td>\n    </tr>\n    <tr>\n      <th>19</th>\n      <td>0</td>\n      <td>19</td>\n      <td>1.216927</td>\n      <td>25.0</td>\n      <td>0.046876</td>\n      <td>0.01</td>\n    </tr>\n  </tbody>\n</table>"
     },
     "execution_count": 29,
     "metadata": {},
     "output_type": "execute_result"
    }
   ],
   "source": [
    "HTML(curves_df[['current_restart', 'Iteration', 'Fitness', 'FEvals', 'Time', 'learning_rate']][0:20].to_html())"
   ],
   "metadata": {
    "collapsed": false,
    "pycharm": {
     "name": "#%%\n"
    }
   }
  },
  {
   "cell_type": "code",
   "execution_count": 30,
   "outputs": [
    {
     "data": {
      "text/plain": "<IPython.core.display.HTML object>",
      "text/html": "<table border=\"1\" class=\"dataframe\">\n  <thead>\n    <tr style=\"text-align: right;\">\n      <th></th>\n      <th>mean_test_score</th>\n      <th>rank_test_score</th>\n      <th>mean_train_score</th>\n      <th>param_activation</th>\n      <th>param_hidden_layer_sizes</th>\n      <th>param_learning_rate</th>\n      <th>param_max_iters</th>\n      <th>param_restarts</th>\n    </tr>\n  </thead>\n  <tbody>\n    <tr>\n      <th>0</th>\n      <td>0.333333</td>\n      <td>1</td>\n      <td>0.333333</td>\n      <td>relu</td>\n      <td>[2]</td>\n      <td>0.01</td>\n      <td>5000</td>\n      <td>1</td>\n    </tr>\n  </tbody>\n</table>"
     },
     "execution_count": 30,
     "metadata": {},
     "output_type": "execute_result"
    }
   ],
   "source": [
    "HTML(cv_results_df[['mean_test_score', 'rank_test_score', 'mean_train_score', 'param_activation', 'param_hidden_layer_sizes', 'param_learning_rate',\n",
    "                    'param_max_iters', 'param_restarts']].to_html())"
   ],
   "metadata": {
    "collapsed": false,
    "pycharm": {
     "name": "#%%\n"
    }
   }
  }
 ],
 "metadata": {
  "kernelspec": {
   "display_name": "Python 3",
   "language": "python",
   "name": "python3"
  },
  "language_info": {
   "codemirror_mode": {
    "name": "ipython",
    "version": 2
   },
   "file_extension": ".py",
   "mimetype": "text/x-python",
   "name": "python",
   "nbconvert_exporter": "python",
   "pygments_lexer": "ipython2",
   "version": "2.7.6"
  }
 },
 "nbformat": 4,
 "nbformat_minor": 0
}