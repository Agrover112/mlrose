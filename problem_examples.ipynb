{
 "cells": [
  {
   "cell_type": "markdown",
   "metadata": {
    "collapsed": true,
    "pycharm": {
     "name": "#%% md\n"
    }
   },
   "source": [
    "# mlrose_hiive Generator and Runner Usage Examples - Andrew Rollings"
   ]
  },
  {
   "cell_type": "markdown",
   "source": [
    "## Overview"
   ],
   "metadata": {
    "collapsed": false
   }
  },
  {
   "cell_type": "markdown",
   "source": [
    "These examples will not solve assignment 2 for you, but they will give you\n",
    "some idea on how to use the problem generator and runner classes.\n",
    "\n",
    "Hopefully this will result in slightly fewer\n",
    "\"How do I &lt;insert basic usage here&gt;?\" questions every semester..."
   ],
   "metadata": {
    "collapsed": false
   }
  },
  {
   "cell_type": "markdown",
   "source": [
    "### Import Libraries"
   ],
   "metadata": {
    "collapsed": false
   }
  },
  {
   "cell_type": "code",
   "execution_count": 26,
   "outputs": [],
   "source": [
    "from IPython.core.display import display, HTML # for some notebook formatting.\n",
    "\n",
    "import mlrose_hiive\n",
    "import numpy as np\n",
    "import logging\n",
    "import networkx as nx\n",
    "import matplotlib as mpl\n",
    "from ast import literal_eval\n",
    "\n",
    "from sklearn.datasets import load_iris\n",
    "from sklearn.model_selection import train_test_split\n",
    "from sklearn.preprocessing import MinMaxScaler, OneHotEncoder\n",
    "from sklearn.metrics import accuracy_score\n",
    "from mlrose_hiive import QueensGenerator, MaxKColorGenerator\n",
    "from mlrose_hiive import SARunner, GARunner\n",
    "\n",
    "# switch off the chatter\n",
    "logging.basicConfig(level=logging.WARNING)"
   ],
   "metadata": {
    "collapsed": false,
    "pycharm": {
     "name": "#%%\n"
    }
   }
  },
  {
   "cell_type": "markdown",
   "source": [
    "### Example 1: Generating and Running 8-Queens using the SA algorithm"
   ],
   "metadata": {
    "collapsed": false
   }
  },
  {
   "cell_type": "code",
   "execution_count": 27,
   "outputs": [],
   "source": [
    "# Generate a new 8-Queen problem using a fixed seed.\n",
    "problem = QueensGenerator().generate(seed=123456, size=8)\n",
    "\n",
    "# create a runner class and solve the problem\n",
    "sa = SARunner(problem=problem,\n",
    "              experiment_name='queens8_sa',\n",
    "              output_directory=None, # note: specify an output directory to have results saved to disk\n",
    "              seed=123456,\n",
    "              iteration_list=2 ** np.arange(11),\n",
    "              max_attempts=500,\n",
    "              temperature_list=[0.1, 0.5, 0.75, 1.0, 2.0, 5.0],\n",
    "              decay_list=[mlrose_hiive.GeomDecay])\n",
    "\n",
    "# the two data frames will contain the results\n",
    "df_run_stats, df_run_curves = sa.run()"
   ],
   "metadata": {
    "collapsed": false,
    "pycharm": {
     "name": "#%%\n"
    }
   }
  },
  {
   "cell_type": "markdown",
   "source": [
    "The preceding code will run the `SA` algorithm six times for at most 1024 iterations.\n",
    "Each run is initialized with the temperature specified in the `temperature_list`\n",
    "using the temperature values specified.\n",
    "\n",
    "If the fitness remains static for `max_attempts` iterations, it will terminate that run.\n",
    "\n",
    "Note that the initial state parameters here are just toy values picked specifically\n",
    "for this example. You will have to choose your own range of values for your\n",
    "assignment. I strongly recommend you don't just copy these, or you will find\n",
    "that the grading is unlikely to go the way you would like.\n",
    "\n",
    "The output in the `df_run_stats` dataframe contains snapshots of the state of the algorithm at the iterations\n",
    "specified in the `iteration_list` passed into the runner class.\n",
    "\n",
    "The first 12 rows (corresponding to the first run of this algorithm) are as follows:"
   ],
   "metadata": {
    "collapsed": false,
    "pycharm": {
     "name": "#%% md\n"
    }
   }
  },
  {
   "cell_type": "code",
   "execution_count": 28,
   "outputs": [
    {
     "data": {
      "text/plain": "<IPython.core.display.HTML object>",
      "text/html": "<table border=\"1\" class=\"dataframe\">\n  <thead>\n    <tr style=\"text-align: right;\">\n      <th></th>\n      <th>Iteration</th>\n      <th>Fitness</th>\n      <th>FEvals</th>\n      <th>Time</th>\n      <th>State</th>\n    </tr>\n  </thead>\n  <tbody>\n    <tr>\n      <th>0</th>\n      <td>0</td>\n      <td>11.0</td>\n      <td>0</td>\n      <td>0.001207</td>\n      <td>[1, 2, 2, 1, 0, 3, 7, 3]</td>\n    </tr>\n    <tr>\n      <th>1</th>\n      <td>1</td>\n      <td>9.0</td>\n      <td>2</td>\n      <td>0.005615</td>\n      <td>[1, 2, 2, 0, 0, 3, 7, 3]</td>\n    </tr>\n    <tr>\n      <th>2</th>\n      <td>2</td>\n      <td>8.0</td>\n      <td>4</td>\n      <td>0.009670</td>\n      <td>[1, 2, 2, 0, 0, 3, 7, 5]</td>\n    </tr>\n    <tr>\n      <th>3</th>\n      <td>4</td>\n      <td>8.0</td>\n      <td>7</td>\n      <td>0.013735</td>\n      <td>[1, 2, 2, 5, 0, 3, 7, 5]</td>\n    </tr>\n    <tr>\n      <th>4</th>\n      <td>8</td>\n      <td>5.0</td>\n      <td>13</td>\n      <td>0.018348</td>\n      <td>[1, 2, 7, 5, 0, 3, 5, 5]</td>\n    </tr>\n    <tr>\n      <th>5</th>\n      <td>16</td>\n      <td>4.0</td>\n      <td>24</td>\n      <td>0.025056</td>\n      <td>[1, 2, 7, 5, 3, 0, 5, 5]</td>\n    </tr>\n    <tr>\n      <th>6</th>\n      <td>32</td>\n      <td>4.0</td>\n      <td>47</td>\n      <td>0.034344</td>\n      <td>[1, 5, 7, 5, 0, 0, 3, 4]</td>\n    </tr>\n    <tr>\n      <th>7</th>\n      <td>64</td>\n      <td>1.0</td>\n      <td>86</td>\n      <td>0.049669</td>\n      <td>[1, 5, 2, 6, 3, 0, 7, 4]</td>\n    </tr>\n    <tr>\n      <th>8</th>\n      <td>128</td>\n      <td>1.0</td>\n      <td>155</td>\n      <td>0.073020</td>\n      <td>[1, 5, 2, 6, 3, 0, 4, 7]</td>\n    </tr>\n    <tr>\n      <th>9</th>\n      <td>256</td>\n      <td>1.0</td>\n      <td>295</td>\n      <td>0.113003</td>\n      <td>[1, 7, 2, 6, 3, 5, 0, 4]</td>\n    </tr>\n    <tr>\n      <th>10</th>\n      <td>512</td>\n      <td>0.0</td>\n      <td>461</td>\n      <td>0.166032</td>\n      <td>[1, 5, 0, 6, 3, 7, 2, 4]</td>\n    </tr>\n    <tr>\n      <th>11</th>\n      <td>1024</td>\n      <td>0.0</td>\n      <td>461</td>\n      <td>0.166032</td>\n      <td>[1, 5, 0, 6, 3, 7, 2, 4]</td>\n    </tr>\n  </tbody>\n</table>"
     },
     "execution_count": 28,
     "metadata": {},
     "output_type": "execute_result"
    }
   ],
   "source": [
    "HTML(df_run_stats[['Iteration', 'Fitness', 'FEvals', 'Time', 'State']][0:12].to_html())"
   ],
   "metadata": {
    "collapsed": false,
    "pycharm": {
     "name": "#%%\n"
    }
   }
  },
  {
   "cell_type": "markdown",
   "source": [
    "The state information is excluded from the previous output.\n",
    "\n",
    "A sample of this (based on the state of the `GeomDecay` object) is below:"
   ],
   "metadata": {
    "collapsed": false
   }
  },
  {
   "cell_type": "code",
   "execution_count": 29,
   "outputs": [
    {
     "data": {
      "text/plain": "<IPython.core.display.HTML object>",
      "text/html": "<table border=\"1\" class=\"dataframe\">\n  <thead>\n    <tr style=\"text-align: right;\">\n      <th></th>\n      <th>schedule_current_value</th>\n      <th>schedule_init_temp</th>\n      <th>schedule_min_temp</th>\n    </tr>\n  </thead>\n  <tbody>\n    <tr>\n      <th>0</th>\n      <td>0.099999</td>\n      <td>0.1</td>\n      <td>0.001</td>\n    </tr>\n  </tbody>\n</table>"
     },
     "execution_count": 29,
     "metadata": {},
     "output_type": "execute_result"
    }
   ],
   "source": [
    "state_sample = df_run_stats[['schedule_current_value', 'schedule_init_temp', 'schedule_min_temp']][:1]\n",
    "HTML(state_sample.to_html())"
   ],
   "metadata": {
    "collapsed": false,
    "pycharm": {
     "name": "#%%\n"
    }
   }
  },
  {
   "cell_type": "markdown",
   "source": [
    "So, to pick out the most performant run from the dataframe, you need to find the row with the best fitness.\n",
    "As 8-Queens is a minimization problem, you'd pick the row with the minimum fitness.\n",
    "\n",
    "However, I'm going to look in the `run_curves` (which stores minimal basic information every iteration) to\n",
    "find out which input state achieved the best fitness in the fewest fitness evaluations."
   ],
   "metadata": {
    "collapsed": false,
    "pycharm": {
     "name": "#%% md\n"
    }
   }
  },
  {
   "cell_type": "code",
   "execution_count": 30,
   "outputs": [
    {
     "data": {
      "text/plain": "<IPython.core.display.HTML object>",
      "text/html": "<table border=\"1\" class=\"dataframe\">\n  <thead>\n    <tr style=\"text-align: right;\">\n      <th></th>\n      <th>Iteration</th>\n      <th>Time</th>\n      <th>Fitness</th>\n      <th>Temperature</th>\n      <th>max_iters</th>\n      <th>FEvals</th>\n    </tr>\n  </thead>\n  <tbody>\n    <tr>\n      <th>414</th>\n      <td>414</td>\n      <td>0.166032</td>\n      <td>0.0</td>\n      <td>0.1</td>\n      <td>1024</td>\n      <td>461</td>\n    </tr>\n    <tr>\n      <th>829</th>\n      <td>414</td>\n      <td>0.166032</td>\n      <td>0.0</td>\n      <td>0.5</td>\n      <td>1024</td>\n      <td>461</td>\n    </tr>\n    <tr>\n      <th>2416</th>\n      <td>561</td>\n      <td>0.084263</td>\n      <td>0.0</td>\n      <td>1.0</td>\n      <td>1024</td>\n      <td>639</td>\n    </tr>\n    <tr>\n      <th>2739</th>\n      <td>322</td>\n      <td>0.139938</td>\n      <td>0.0</td>\n      <td>2.0</td>\n      <td>1024</td>\n      <td>427</td>\n    </tr>\n    <tr>\n      <th>3164</th>\n      <td>424</td>\n      <td>0.021684</td>\n      <td>0.0</td>\n      <td>5.0</td>\n      <td>1024</td>\n      <td>583</td>\n    </tr>\n  </tbody>\n</table>"
     },
     "execution_count": 30,
     "metadata": {},
     "output_type": "execute_result"
    }
   ],
   "source": [
    "best_fitness = df_run_curves['Fitness'].min()\n",
    "best_runs = df_run_curves[df_run_curves['Fitness'] == best_fitness]\n",
    "\n",
    "HTML(best_runs.to_html())"
   ],
   "metadata": {
    "collapsed": false,
    "pycharm": {
     "name": "#%%\n"
    }
   }
  },
  {
   "cell_type": "markdown",
   "source": [
    "This gives us five candidates for the best run. We are going to pick the one with\n",
    "that reached the best fitness value in the fewest number of evaluations.\n",
    "\n",
    "(We could also have chosen to use `Iterations` as our criteria.)"
   ],
   "metadata": {
    "collapsed": false
   }
  },
  {
   "cell_type": "code",
   "execution_count": 31,
   "outputs": [],
   "source": [
    "minimum_evaluations = best_runs['FEvals'].min()\n",
    "\n",
    "best_curve_run = best_runs[best_runs['FEvals'] == minimum_evaluations]"
   ],
   "metadata": {
    "collapsed": false,
    "pycharm": {
     "name": "#%%\n"
    }
   }
  },
  {
   "cell_type": "markdown",
   "source": [
    "The best run using these criteria is as follows:"
   ],
   "metadata": {
    "collapsed": false,
    "pycharm": {
     "name": "#%% md\n"
    }
   }
  },
  {
   "cell_type": "code",
   "execution_count": 32,
   "outputs": [
    {
     "data": {
      "text/plain": "<IPython.core.display.HTML object>",
      "text/html": "<table border=\"1\" class=\"dataframe\">\n  <thead>\n    <tr style=\"text-align: right;\">\n      <th></th>\n      <th>Iteration</th>\n      <th>Time</th>\n      <th>Fitness</th>\n      <th>Temperature</th>\n      <th>max_iters</th>\n      <th>FEvals</th>\n    </tr>\n  </thead>\n  <tbody>\n    <tr>\n      <th>2739</th>\n      <td>322</td>\n      <td>0.139938</td>\n      <td>0.0</td>\n      <td>2.0</td>\n      <td>1024</td>\n      <td>427</td>\n    </tr>\n  </tbody>\n</table>"
     },
     "execution_count": 32,
     "metadata": {},
     "output_type": "execute_result"
    }
   ],
   "source": [
    "HTML(best_curve_run.to_html())"
   ],
   "metadata": {
    "collapsed": false,
    "pycharm": {
     "name": "#%%\n"
    }
   }
  },
  {
   "cell_type": "markdown",
   "source": [
    "Which has the following identifying state information:"
   ],
   "metadata": {
    "collapsed": false,
    "pycharm": {
     "name": "#%% md\n"
    }
   }
  },
  {
   "cell_type": "code",
   "execution_count": 33,
   "outputs": [
    {
     "name": "stdout",
     "output_type": "stream",
     "text": [
      "Best initial temperature: 2.0\n"
     ]
    }
   ],
   "source": [
    "best_init_temperature = best_curve_run['Temperature'].iloc()[0].init_temp\n",
    "\n",
    "print(f'Best initial temperature: {best_init_temperature}')\n"
   ],
   "metadata": {
    "collapsed": false,
    "pycharm": {
     "name": "#%%\n"
    }
   }
  },
  {
   "cell_type": "markdown",
   "source": [
    "To map this back to the `run_stats` we look at the configuration data included in\n",
    "the curve data. The curve data includes at least the minimum identifying information\n",
    "to determine which run each row came from.\n",
    "\n",
    "In this case, the value we are looking for is the `Temperature`, which is the initial temperature\n",
    "used to initialize the `GeomDecay` object.\n",
    "\n",
    "So, in this case, we are looking for all rows in `df_run_stats` where the temperature is equal to 1."
   ],
   "metadata": {
    "collapsed": false,
    "pycharm": {
     "name": "#%% md\n"
    }
   }
  },
  {
   "cell_type": "code",
   "execution_count": 34,
   "outputs": [
    {
     "data": {
      "text/plain": "<IPython.core.display.HTML object>",
      "text/html": "<table border=\"1\" class=\"dataframe\">\n  <thead>\n    <tr style=\"text-align: right;\">\n      <th></th>\n      <th>Iteration</th>\n      <th>Fitness</th>\n      <th>FEvals</th>\n      <th>Time</th>\n      <th>State</th>\n    </tr>\n  </thead>\n  <tbody>\n    <tr>\n      <th>48</th>\n      <td>0</td>\n      <td>11.0</td>\n      <td>0</td>\n      <td>0.000527</td>\n      <td>[1, 2, 2, 1, 0, 3, 7, 3]</td>\n    </tr>\n    <tr>\n      <th>49</th>\n      <td>1</td>\n      <td>9.0</td>\n      <td>2</td>\n      <td>0.006751</td>\n      <td>[1, 2, 2, 0, 0, 3, 7, 3]</td>\n    </tr>\n    <tr>\n      <th>50</th>\n      <td>2</td>\n      <td>8.0</td>\n      <td>4</td>\n      <td>0.013208</td>\n      <td>[1, 2, 2, 0, 0, 3, 7, 5]</td>\n    </tr>\n    <tr>\n      <th>51</th>\n      <td>4</td>\n      <td>8.0</td>\n      <td>7</td>\n      <td>0.020118</td>\n      <td>[1, 2, 2, 5, 0, 3, 7, 5]</td>\n    </tr>\n    <tr>\n      <th>52</th>\n      <td>8</td>\n      <td>7.0</td>\n      <td>14</td>\n      <td>0.028407</td>\n      <td>[1, 2, 2, 5, 0, 3, 5, 5]</td>\n    </tr>\n    <tr>\n      <th>53</th>\n      <td>16</td>\n      <td>6.0</td>\n      <td>27</td>\n      <td>0.038376</td>\n      <td>[3, 2, 3, 5, 0, 1, 5, 5]</td>\n    </tr>\n    <tr>\n      <th>54</th>\n      <td>32</td>\n      <td>4.0</td>\n      <td>57</td>\n      <td>0.052975</td>\n      <td>[3, 5, 6, 5, 5, 0, 4, 7]</td>\n    </tr>\n    <tr>\n      <th>55</th>\n      <td>64</td>\n      <td>5.0</td>\n      <td>114</td>\n      <td>0.076060</td>\n      <td>[2, 0, 3, 6, 1, 2, 1, 7]</td>\n    </tr>\n    <tr>\n      <th>56</th>\n      <td>128</td>\n      <td>3.0</td>\n      <td>205</td>\n      <td>0.108166</td>\n      <td>[2, 0, 6, 3, 5, 0, 4, 3]</td>\n    </tr>\n    <tr>\n      <th>57</th>\n      <td>256</td>\n      <td>2.0</td>\n      <td>358</td>\n      <td>0.161521</td>\n      <td>[7, 1, 3, 6, 6, 4, 0, 5]</td>\n    </tr>\n    <tr>\n      <th>58</th>\n      <td>512</td>\n      <td>0.0</td>\n      <td>427</td>\n      <td>0.190708</td>\n      <td>[7, 1, 3, 0, 6, 4, 2, 5]</td>\n    </tr>\n    <tr>\n      <th>59</th>\n      <td>1024</td>\n      <td>0.0</td>\n      <td>427</td>\n      <td>0.190708</td>\n      <td>[7, 1, 3, 0, 6, 4, 2, 5]</td>\n    </tr>\n  </tbody>\n</table>"
     },
     "execution_count": 34,
     "metadata": {},
     "output_type": "execute_result"
    }
   ],
   "source": [
    "run_stats_best_run = df_run_stats[df_run_stats['schedule_init_temp'] == best_init_temperature]\n",
    "HTML(run_stats_best_run[['Iteration', 'Fitness', 'FEvals', 'Time', 'State']].to_html())"
   ],
   "metadata": {
    "collapsed": false,
    "pycharm": {
     "name": "#%%\n"
    }
   }
  },
  {
   "cell_type": "markdown",
   "source": [
    "And the best state associated with this is:"
   ],
   "metadata": {
    "collapsed": false,
    "pycharm": {
     "name": "#%% md\n"
    }
   }
  },
  {
   "cell_type": "code",
   "execution_count": 35,
   "outputs": [
    {
     "data": {
      "text/plain": "<IPython.core.display.HTML object>",
      "text/html": "<table border=\"1\" class=\"dataframe\">\n  <thead>\n    <tr style=\"text-align: right;\">\n      <th></th>\n      <th>schedule_current_value</th>\n      <th>schedule_init_temp</th>\n      <th>schedule_min_temp</th>\n    </tr>\n  </thead>\n  <tbody>\n    <tr>\n      <th>48</th>\n      <td>1.999989</td>\n      <td>2.0</td>\n      <td>0.001</td>\n    </tr>\n  </tbody>\n</table>"
     },
     "execution_count": 35,
     "metadata": {},
     "output_type": "execute_result"
    }
   ],
   "source": [
    "best_state = run_stats_best_run[['schedule_current_value', 'schedule_init_temp', 'schedule_min_temp']][:1]\n",
    "HTML(best_state.to_html())\n"
   ],
   "metadata": {
    "collapsed": false,
    "pycharm": {
     "name": "#%%\n"
    }
   }
  },
  {
   "cell_type": "markdown",
   "source": [
    "### Example 2: Generating and Running Max K Color using the GA algorithm"
   ],
   "metadata": {
    "collapsed": false
   }
  },
  {
   "cell_type": "code",
   "execution_count": 36,
   "outputs": [],
   "source": [
    "# Generate a new Max K problem using a fixed seed.\n",
    "problem = MaxKColorGenerator().generate(seed=123456, number_of_nodes=40, max_connections_per_node=3, max_colors=4)"
   ],
   "metadata": {
    "collapsed": false,
    "pycharm": {
     "name": "#%%\n"
    }
   }
  },
  {
   "cell_type": "markdown",
   "source": [
    "The input graph generated for the problem looks like this:"
   ],
   "metadata": {
    "collapsed": false
   }
  },
  {
   "cell_type": "code",
   "execution_count": 37,
   "outputs": [
    {
     "data": {
      "text/plain": "<Figure size 432x288 with 1 Axes>",
      "image/png": "[encoded data removed]"
     },
     "metadata": {},
     "output_type": "display_data"
    }
   ],
   "source": [
    "nx.draw(problem.source_graph,\n",
    "        pos=nx.spring_layout(problem.source_graph, seed = 3))"
   ],
   "metadata": {
    "collapsed": false,
    "pycharm": {
     "name": "#%%\n"
    }
   }
  },
  {
   "cell_type": "code",
   "execution_count": 38,
   "outputs": [],
   "source": [
    "# create a runner class and solve the problem\n",
    "ga = GARunner(problem=problem,\n",
    "              experiment_name='max_k_ga',\n",
    "              output_directory=None, # note: specify an output directory to have results saved to disk\n",
    "              seed=123456,\n",
    "              iteration_list=2 ** np.arange(11),\n",
    "              population_sizes=[10, 20, 50],\n",
    "              mutation_rates=[0.1, 0.2, 0.4])\n",
    "\n",
    "# the two data frames will contain the results\n",
    "df_run_stats, df_run_curves = ga.run()"
   ],
   "metadata": {
    "collapsed": false,
    "pycharm": {
     "name": "#%%\n"
    }
   }
  },
  {
   "cell_type": "markdown",
   "source": [
    "The preceding code will run the `GA` algorithm nine times for at most 1024 iterations per run.\n",
    "Each run is a permutation from the list of `population_sizes` and `mutation_rates`.\n",
    "\n",
    "Note that the initial state parameters here are just toy values picked specifically\n",
    "for this example. You will have to choose your own range of values for your\n",
    "assignment. I strongly recommend you don't just copy these, or you will find\n",
    "that the grading is unlikely to go the way you would like.\n",
    "\n",
    "The output in the `df_run_stats` dataframe contains snapshots of the state of the algorithm at the iterations\n",
    "specified in the `iteration_list` passed into the runner class.\n",
    "\n",
    "The first row (corresponding to the first run of this algorithm) are as follows:"
   ],
   "metadata": {
    "collapsed": false
   }
  },
  {
   "cell_type": "code",
   "execution_count": 39,
   "outputs": [
    {
     "data": {
      "text/plain": "<IPython.core.display.HTML object>",
      "text/html": "<table border=\"1\" class=\"dataframe\">\n  <thead>\n    <tr style=\"text-align: right;\">\n      <th></th>\n      <th>Iteration</th>\n      <th>Fitness</th>\n      <th>FEvals</th>\n      <th>Time</th>\n      <th>State</th>\n    </tr>\n  </thead>\n  <tbody>\n    <tr>\n      <th>0</th>\n      <td>0</td>\n      <td>18.0</td>\n      <td>10</td>\n      <td>0.000887</td>\n      <td>[1, 2, 2, 1, 0, 3, 3, 3, 3, 0, 3, 0, 0, 2, 2, 0, 3, 0, 3, 3, 2, 2, 2, 3, 2, 2, 2, 2, 2, 3, 0, 2, 1, 0, 3, 0, 0, 0, 1, 3]</td>\n    </tr>\n  </tbody>\n</table>"
     },
     "execution_count": 39,
     "metadata": {},
     "output_type": "execute_result"
    }
   ],
   "source": [
    "HTML(df_run_stats[['Iteration', 'Fitness', 'FEvals', 'Time', 'State']][0:1].to_html())"
   ],
   "metadata": {
    "collapsed": false,
    "pycharm": {
     "name": "#%%\n"
    }
   }
  },
  {
   "cell_type": "markdown",
   "source": [
    "The state information is excluded from the previous output.\n",
    "\n",
    "A sample of this is below:"
   ],
   "metadata": {
    "collapsed": false
   }
  },
  {
   "cell_type": "code",
   "execution_count": 40,
   "outputs": [
    {
     "data": {
      "text/plain": "<IPython.core.display.HTML object>",
      "text/html": "<table border=\"1\" class=\"dataframe\">\n  <thead>\n    <tr style=\"text-align: right;\">\n      <th></th>\n      <th>Population Size</th>\n      <th>Mutation Rate</th>\n    </tr>\n  </thead>\n  <tbody>\n    <tr>\n      <th>0</th>\n      <td>10</td>\n      <td>0.1</td>\n    </tr>\n  </tbody>\n</table>"
     },
     "execution_count": 40,
     "metadata": {},
     "output_type": "execute_result"
    }
   ],
   "source": [
    "state_sample = df_run_stats[['Population Size', 'Mutation Rate']][:1]\n",
    "HTML(state_sample.to_html())\n"
   ],
   "metadata": {
    "collapsed": false,
    "pycharm": {
     "name": "#%%\n"
    }
   }
  },
  {
   "cell_type": "markdown",
   "source": [
    "So, to pick out the most performant run from the dataframe, you need to find the row with the best fitness.\n",
    "As Max-K-Color is a minimization problem, you'd pick the row with the minimum fitness.\n",
    "\n",
    "However, I'm going to look in the `run_curves` (which stores minimal basic information every iteration) to\n",
    "find out which input state achieved the best fitness in the fewest fitness evaluations."
   ],
   "metadata": {
    "collapsed": false
   }
  },
  {
   "cell_type": "code",
   "execution_count": 41,
   "outputs": [
    {
     "data": {
      "text/plain": "<IPython.core.display.HTML object>",
      "text/html": "<table border=\"1\" class=\"dataframe\">\n  <thead>\n    <tr style=\"text-align: right;\">\n      <th></th>\n      <th>Iteration</th>\n      <th>Time</th>\n      <th>Fitness</th>\n      <th>Population Size</th>\n      <th>Mutation Rate</th>\n      <th>max_iters</th>\n      <th>FEvals</th>\n    </tr>\n  </thead>\n  <tbody>\n    <tr>\n      <th>458</th>\n      <td>458</td>\n      <td>0.634072</td>\n      <td>0.0</td>\n      <td>10</td>\n      <td>0.1</td>\n      <td>1024</td>\n      <td>5060</td>\n    </tr>\n    <tr>\n      <th>701</th>\n      <td>242</td>\n      <td>0.354346</td>\n      <td>0.0</td>\n      <td>10</td>\n      <td>0.2</td>\n      <td>1024</td>\n      <td>2688</td>\n    </tr>\n    <tr>\n      <th>844</th>\n      <td>142</td>\n      <td>0.217848</td>\n      <td>0.0</td>\n      <td>10</td>\n      <td>0.4</td>\n      <td>1024</td>\n      <td>1584</td>\n    </tr>\n    <tr>\n      <th>1308</th>\n      <td>463</td>\n      <td>0.012720</td>\n      <td>0.0</td>\n      <td>20</td>\n      <td>0.1</td>\n      <td>1024</td>\n      <td>9753</td>\n    </tr>\n    <tr>\n      <th>1371</th>\n      <td>62</td>\n      <td>0.115309</td>\n      <td>0.0</td>\n      <td>20</td>\n      <td>0.2</td>\n      <td>1024</td>\n      <td>1330</td>\n    </tr>\n    <tr>\n      <th>1439</th>\n      <td>67</td>\n      <td>0.124305</td>\n      <td>0.0</td>\n      <td>20</td>\n      <td>0.4</td>\n      <td>1024</td>\n      <td>1439</td>\n    </tr>\n    <tr>\n      <th>1528</th>\n      <td>88</td>\n      <td>0.151700</td>\n      <td>0.0</td>\n      <td>50</td>\n      <td>0.1</td>\n      <td>1024</td>\n      <td>4546</td>\n    </tr>\n    <tr>\n      <th>1548</th>\n      <td>19</td>\n      <td>0.047908</td>\n      <td>0.0</td>\n      <td>50</td>\n      <td>0.2</td>\n      <td>1024</td>\n      <td>1027</td>\n    </tr>\n    <tr>\n      <th>1593</th>\n      <td>44</td>\n      <td>0.090550</td>\n      <td>0.0</td>\n      <td>50</td>\n      <td>0.4</td>\n      <td>1024</td>\n      <td>2303</td>\n    </tr>\n  </tbody>\n</table>"
     },
     "execution_count": 41,
     "metadata": {},
     "output_type": "execute_result"
    }
   ],
   "source": [
    "best_fitness = df_run_curves['Fitness'].min()\n",
    "best_runs = df_run_curves[df_run_curves['Fitness'] == best_fitness]\n",
    "\n",
    "HTML(best_runs.to_html())"
   ],
   "metadata": {
    "collapsed": false,
    "pycharm": {
     "name": "#%%\n"
    }
   }
  },
  {
   "cell_type": "markdown",
   "source": [
    "This gives us five candidates for the best run. We are going to pick the one with\n",
    "that reached the best fitness value in the fewest number of evaluations.\n",
    "\n",
    "(We could also have chosen to use `Iterations` as our criteria.)"
   ],
   "metadata": {
    "collapsed": false
   }
  },
  {
   "cell_type": "code",
   "execution_count": 42,
   "outputs": [],
   "source": [
    "minimum_evaluations = best_runs['FEvals'].min()\n",
    "\n",
    "best_curve_run = best_runs[best_runs['FEvals'] == minimum_evaluations]"
   ],
   "metadata": {
    "collapsed": false,
    "pycharm": {
     "name": "#%%\n"
    }
   }
  },
  {
   "cell_type": "markdown",
   "source": [
    "The best run using these criteria is as follows:"
   ],
   "metadata": {
    "collapsed": false
   }
  },
  {
   "cell_type": "code",
   "execution_count": 43,
   "outputs": [
    {
     "data": {
      "text/plain": "<IPython.core.display.HTML object>",
      "text/html": "<table border=\"1\" class=\"dataframe\">\n  <thead>\n    <tr style=\"text-align: right;\">\n      <th></th>\n      <th>Iteration</th>\n      <th>Time</th>\n      <th>Fitness</th>\n      <th>Population Size</th>\n      <th>Mutation Rate</th>\n      <th>max_iters</th>\n      <th>FEvals</th>\n    </tr>\n  </thead>\n  <tbody>\n    <tr>\n      <th>1548</th>\n      <td>19</td>\n      <td>0.047908</td>\n      <td>0.0</td>\n      <td>50</td>\n      <td>0.2</td>\n      <td>1024</td>\n      <td>1027</td>\n    </tr>\n  </tbody>\n</table>"
     },
     "execution_count": 43,
     "metadata": {},
     "output_type": "execute_result"
    }
   ],
   "source": [
    "HTML(best_curve_run.to_html())"
   ],
   "metadata": {
    "collapsed": false,
    "pycharm": {
     "name": "#%%\n"
    }
   }
  },
  {
   "cell_type": "markdown",
   "source": [
    "Which has the following identifying state information:"
   ],
   "metadata": {
    "collapsed": false
   }
  },
  {
   "cell_type": "code",
   "execution_count": 44,
   "outputs": [
    {
     "name": "stdout",
     "output_type": "stream",
     "text": [
      "Best Mutation Rate: 0.2, best Population Size: 50\n"
     ]
    }
   ],
   "source": [
    "best_mr = best_curve_run['Mutation Rate'].iloc()[0]\n",
    "best_pop_size = best_curve_run['Population Size'].iloc()[0]\n",
    "print(f'Best Mutation Rate: {best_mr}, best Population Size: {best_pop_size}')\n"
   ],
   "metadata": {
    "collapsed": false,
    "pycharm": {
     "name": "#%%\n"
    }
   }
  },
  {
   "cell_type": "markdown",
   "source": [
    "To map this back to the `run_stats` we look at the configuration data included in\n",
    "the curve data. The curve data includes at least the minimum identifying information\n",
    "to determine which run each row came from.\n",
    "\n",
    "In this case, the values we are looking for are the `Mutation Rate` and `Population Size`.\n",
    "\n",
    "So, we are looking for all rows in `df_run_stats` where the mutation rate and population size are equal to our best values."
   ],
   "metadata": {
    "collapsed": false
   }
  },
  {
   "cell_type": "code",
   "execution_count": 45,
   "outputs": [
    {
     "data": {
      "text/plain": "<IPython.core.display.HTML object>",
      "text/html": "<table border=\"1\" class=\"dataframe\">\n  <thead>\n    <tr style=\"text-align: right;\">\n      <th></th>\n      <th>Iteration</th>\n      <th>Fitness</th>\n      <th>FEvals</th>\n      <th>Time</th>\n    </tr>\n  </thead>\n  <tbody>\n    <tr>\n      <th>84</th>\n      <td>0</td>\n      <td>18.0</td>\n      <td>50</td>\n      <td>0.004459</td>\n    </tr>\n    <tr>\n      <th>85</th>\n      <td>1</td>\n      <td>11.0</td>\n      <td>102</td>\n      <td>0.015693</td>\n    </tr>\n    <tr>\n      <th>86</th>\n      <td>2</td>\n      <td>10.0</td>\n      <td>154</td>\n      <td>0.027326</td>\n    </tr>\n    <tr>\n      <th>87</th>\n      <td>4</td>\n      <td>8.0</td>\n      <td>257</td>\n      <td>0.045844</td>\n    </tr>\n    <tr>\n      <th>88</th>\n      <td>8</td>\n      <td>6.0</td>\n      <td>462</td>\n      <td>0.073154</td>\n    </tr>\n    <tr>\n      <th>89</th>\n      <td>16</td>\n      <td>3.0</td>\n      <td>872</td>\n      <td>0.119590</td>\n    </tr>\n    <tr>\n      <th>90</th>\n      <td>32</td>\n      <td>0.0</td>\n      <td>1027</td>\n      <td>0.140256</td>\n    </tr>\n    <tr>\n      <th>91</th>\n      <td>64</td>\n      <td>0.0</td>\n      <td>1027</td>\n      <td>0.140256</td>\n    </tr>\n    <tr>\n      <th>92</th>\n      <td>128</td>\n      <td>0.0</td>\n      <td>1027</td>\n      <td>0.140256</td>\n    </tr>\n    <tr>\n      <th>93</th>\n      <td>256</td>\n      <td>0.0</td>\n      <td>1027</td>\n      <td>0.140256</td>\n    </tr>\n    <tr>\n      <th>94</th>\n      <td>512</td>\n      <td>0.0</td>\n      <td>1027</td>\n      <td>0.140256</td>\n    </tr>\n    <tr>\n      <th>95</th>\n      <td>1024</td>\n      <td>0.0</td>\n      <td>1027</td>\n      <td>0.140256</td>\n    </tr>\n  </tbody>\n</table>"
     },
     "execution_count": 45,
     "metadata": {},
     "output_type": "execute_result"
    }
   ],
   "source": [
    "run_stats_best_run = df_run_stats[(df_run_stats['Mutation Rate'] == best_mr) & (df_run_stats['Population Size'] == best_pop_size)]\n",
    "HTML(run_stats_best_run[['Iteration', 'Fitness', 'FEvals', 'Time']].to_html())"
   ],
   "metadata": {
    "collapsed": false,
    "pycharm": {
     "name": "#%%\n"
    }
   }
  },
  {
   "cell_type": "markdown",
   "source": [
    "And the best state associated with this is:"
   ],
   "metadata": {
    "collapsed": false
   }
  },
  {
   "cell_type": "code",
   "execution_count": 46,
   "outputs": [
    {
     "data": {
      "text/plain": "<IPython.core.display.HTML object>",
      "text/html": "<table border=\"1\" class=\"dataframe\">\n  <thead>\n    <tr style=\"text-align: right;\">\n      <th></th>\n      <th>State</th>\n    </tr>\n  </thead>\n  <tbody>\n    <tr>\n      <th>84</th>\n      <td>[1, 2, 2, 1, 0, 3, 3, 3, 3, 0, 3, 0, 0, 2, 2, 0, 3, 0, 3, 3, 2, 2, 2, 3, 2, 2, 2, 2, 2, 3, 0, 2, 1, 0, 3, 0, 0, 0, 1, 3]</td>\n    </tr>\n  </tbody>\n</table>"
     },
     "execution_count": 46,
     "metadata": {},
     "output_type": "execute_result"
    }
   ],
   "source": [
    "best_state = run_stats_best_run[['State']][:1]\n",
    "HTML(best_state.to_html())"
   ],
   "metadata": {
    "collapsed": false,
    "pycharm": {
     "name": "#%%\n"
    }
   }
  },
  {
   "cell_type": "markdown",
   "source": [
    "Which results in a graph looking like this:"
   ],
   "metadata": {
    "collapsed": false,
    "pycharm": {
     "name": "#%% md\n"
    }
   }
  },
  {
   "cell_type": "code",
   "execution_count": 47,
   "outputs": [
    {
     "data": {
      "text/plain": "<Figure size 432x288 with 1 Axes>",
      "image/png": "[encoded data removed]"
     },
     "metadata": {},
     "output_type": "display_data"
    }
   ],
   "source": [
    "color_indexes = literal_eval(run_stats_best_run['State'].tail(1).values[0])\n",
    "\n",
    "colors = ['red', 'lightgreen', 'yellow', 'cyan']\n",
    "node_color_map = [colors[color_indexes[n]] for n in problem.source_graph.nodes]\n",
    "\n",
    "nx.draw(problem.source_graph,\n",
    "        pos=nx.spring_layout(problem.source_graph, seed = 3),\n",
    "        with_labels=True,\n",
    "        node_color=node_color_map)"
   ],
   "metadata": {
    "collapsed": false,
    "pycharm": {
     "name": "#%%\n"
    }
   }
  }
 ],
 "metadata": {
  "kernelspec": {
   "display_name": "Python 3",
   "language": "python",
   "name": "python3"
  },
  "language_info": {
   "codemirror_mode": {
    "name": "ipython",
    "version": 2
   },
   "file_extension": ".py",
   "mimetype": "text/x-python",
   "name": "python",
   "nbconvert_exporter": "python",
   "pygments_lexer": "ipython2",
   "version": "2.7.6"
  }
 },
 "nbformat": 4,
 "nbformat_minor": 0
}